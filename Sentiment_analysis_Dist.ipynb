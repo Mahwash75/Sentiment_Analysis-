{
 "cells": [
  {
   "cell_type": "markdown",
   "metadata": {
    "id": "SYqV6iMju_IW"
   },
   "source": [
    "Task Title: Sentiment Analysis using DistilBERT for Twitter Financial News\n",
    " Task Description: In this code snippet, you will perform sentiment analysis on financial\n",
    "news-related tweets using the DistilBERT model. The goal is to classify tweets into one of\n",
    "three sentiment labels: \"Bearish\", \"Bullish\", or \"Neutral\". The dataset can be downloaded with\n",
    "code below and consists of annotated finance-related tweets with sentiment labels. The\n",
    "dataset is divided into training and validation subsets. The code will tokenize the tweet texts,\n",
    "train a DistilBERT-based sentiment classifier, and evaluate its performance.\n",
    " You must use HF Trainer or Lightning Trainer for Training/Inference Loops"
   ]
  },
  {
   "cell_type": "code",
   "execution_count": null,
   "metadata": {
    "colab": {
     "base_uri": "https://localhost:8080/",
     "height": 560,
     "referenced_widgets": [
      "643edf7be6a047bfb7943f0b923c6485",
      "c034dd4f929547d68a6ff979edbba912",
      "44eb823bcde946e386e7633de3e2ab6a",
      "e6afbc14b53343539d5295392c744902",
      "7dafca3f29ca46b5a753e19cfac4e6f7",
      "d7bfae910cea499f81feba26e18cf5e9",
      "d17740cb1e4b42ebb0776d930a791695",
      "29ac704dcac54493acb84643ca109021",
      "d75d1c1b07284f2199a27e73d79807f0",
      "193116305c75414eb75119717e394b99",
      "e25d1d7b3c1243968ada758ea23b01dc",
      "5c0c7a75362145faac6393d7f6cdfd30",
      "f377f63c9ccd4836b86c64e823e95d19",
      "9c61dddf5d714ec2b92a16475ffdffca",
      "bbdb1bef9003434592ddf034c6813c0f",
      "9d5617b583de408c9918dfcd1631fb4f",
      "c6bc132ce06d4a4fb5c3025257ca119a",
      "9394670fa9a147388a97dad2131bd075",
      "cbc85738b73847f3aba6b7724be2101e",
      "c6fa40f50e634e1e80d0b5741206ed83",
      "1ded751513854c50b98e80fb5b91b33c",
      "17f744c4b4e443f88c4de1bbd3dd72f1",
      "52969b93932640468488f23e7233d2c4",
      "f347b732d01447d9938b7ebf08161e7f",
      "7ca0d18db182449982d78890fc12ac0f",
      "6ef78a20cfb347ebbc4419d6ebd006bc",
      "95155b21ba04416da93c3562f6b67bfe",
      "b8c2023dea5d4d28bf09fa88295da7bb",
      "f8b43733ad8441bdaaaf6c9860ae683a",
      "6aca9d8beca64c82b33c70a1405d558e",
      "28485f0fb3e14a349f5ed83c39c5761e",
      "e36e0d6e6a2c4cb3b37414ffa1129244",
      "14fc85fd1c4e480184267e15c5129251",
      "d9f225788ad94979a032ac423400a443",
      "cb1fc84e595f4a468d44d3c5225abeb2",
      "f2fd7be665184d29b3d3a14a48f12bf2",
      "f93e5dc15d6147ce91ca3c7b4f515eaa",
      "8b9e7953f3c843ff885d9a1f70443d5b",
      "1e95b2e7ba0d463b8e1d70ab1e1ababd",
      "667e5a899b21431280677a61ac01a556",
      "b8eca05d6b124d8ea7b455399d1ee5d6",
      "9b1a1c7095dd492789334e00c6e9784e",
      "c20f80d070f048a98008ed6a421e8e18",
      "a9230968d7e946cf9579c75962e01c20",
      "e6cd5f402a0f414396f33dc6dc96dd57",
      "c563f204a54d4dd48b5e60146dbe8227",
      "e5a5490c71f94d8b89cb652cf518b473",
      "13550ec7b6274057a7458f3ca61ec3e2",
      "47a06f2f0115435f9604f48ef280921d",
      "117f80aac3da4f44ac69c356a0f5f3ce",
      "66575bd81c0f4373bcc233d88675e825",
      "c03ba58ea5e3447c8e8d9da985ac638f",
      "b4d58f383bbc4116a9af935d4b5cb1c5",
      "c5b26b539dcd417194648cf865ff6dea",
      "d5604a0c56204ae8b6f97a669f032e5f",
      "6ee24f9142494929a9384247e1d6fff3",
      "bdb24c2760c14ef582b6aff83eea6a30",
      "60d32314d80d492c83df4e6d49038136",
      "6c3d957f84ae4c14b0cebbb7d00e9506",
      "bb2fb23fcc4d4d94ba956dcad97a57cc",
      "45288a4beb484323ab57f5bdf8c07d15",
      "37e7a9af67964e6f94036fec4858e7c1",
      "26a6608b0bac4e7d998f8f3099ece691",
      "e611da088b0f452fb364434c322a10f9",
      "98cb5e04cade453d80f75286726d4d0d",
      "95759e36f0494e7880c8b0939076f1ce",
      "b0a5eac76c9f4c508c80dffa05954f9f",
      "90cd22f97e484702b0da049bb70b9c47",
      "29407770bbc64d1994ed0ba93d9637a8",
      "159815ac311c436d8940739e13ee9259",
      "41b3bbe939fc4fea9e5d2a658bac44e9",
      "81fff2eb2e17453ca3393af966d1c440",
      "bff5dbd8898d426d8776fad90391050a",
      "fd9edf4305b14bbc844a743c8a454da8",
      "520488b6e9204848bdc8e0e8efc4bf14",
      "67df4ed7ed46439e82084ced688ee28d",
      "8670871243894993a73d32ebf87c1aae",
      "e3c72590ee774f02be4272173c836f97",
      "d7f6e8c1f772470e9e78fe3cd85c58b4",
      "584e15bf9b394f6d91371a823635749c",
      "a0eaf20658a3433ba25f14644f3d350f",
      "d126f528e84346e0b183e8b580fdac6b",
      "3136bc75d8694e708d40719eb23de08a",
      "d3c3ce7333944df8b1fb6585f0282f48",
      "07d96116cb7a4a1dae95c624777a1d54",
      "7853b2b1642446a1bedad5c3ce03065c",
      "ec7038267a6b4f689250d70cafe6fb2e",
      "3c451ee012fb449687692a799344a0e1",
      "162adfe6fe2a4e3b8e78961b09148e10",
      "4e1fa7d85868467fb5aa1ef9033c5f29",
      "6aa2b8705b104e3ca3cef8531454a959",
      "8cb292c8f7e64758be458fa4dd48350c",
      "419d929cefd046f58d4de023eb3a101b",
      "562034f7c078459981f40772e01b360b",
      "9f3d64865bf84f1e94474214239539c3",
      "fd930c4c0f884e6fbfe05a3be5d826d1",
      "d9f9869ac0604d07b69edbaf10606cb9",
      "48e57fe71211491e994e1dfdf35b8cf4",
      "c35a21d5ac63406691443ecd7aab8898",
      "956053b1242b4a06b9156de76e56148a",
      "5ae83d212fe543818b04c51317a4e7e6",
      "103685a27b994809929651ebae279c49",
      "3d759ea2d5fd4673bc45f848b1f8d8d6",
      "d546fd4a67fa4880b39e822422531e80",
      "51f60212e22347968e14cf6e856b5463",
      "cdbfb8639af140b986362dcb63f12294",
      "ef97f0a7b0fd489faa008307df349e9b",
      "1dec475007b24422a105a5b8af1a6192",
      "c6ab3dfb799d444a961086365a96130e",
      "8b70145922b24e88a4e857d208a97c12",
      "b4a3000534a84e47a6be395e2c303988",
      "dc3065db2ea645d6ae39bdb22824620f",
      "cf2cba4f86694df88f4a4480872a5f87",
      "3ba8641b60fc4d538b281a69f4e288a5",
      "f342b69d90eb47b89b72c4200c825f77",
      "2f305f699da34d679fbb9c22def6363f",
      "ce22cae0d9e74e4fa0067909b675c7a5",
      "e551fea223ff4835860aa3f9d25e5edf",
      "7fffd393e4c74d7e917a1de2da57d37e",
      "aeb7249e03644095baadd2446bcd067e",
      "6182152cf6cd4a178e715094a2657175",
      "928bd69307854d9babed78d17c90b38e",
      "59a10692a9ff47f2aa9e3d66e20fb764",
      "a25b7c1bcbdd43539d403ee506d07c71",
      "58a0f0d7740b4b90a1ccf6f89f7cf646",
      "dbace4728bf14f39b54f85775f7b4df5",
      "7b9077f165404765ba036c8dc5fe4b94",
      "9bf6940ff2874a368de0e0026240e85a",
      "ee50e476e870463a9a7e5017c4919552",
      "322582058eee41b6b9282d33107181a5",
      "9e7b7a000bd64689a4bb974e8e0c03d4",
      "44574d2b2bc9489786aba5cf31e8a595"
     ]
    },
    "id": "0gZb8W_2u-WS",
    "outputId": "288d38ce-b0eb-4e7c-a167-c94263bbaa64"
   },
   "outputs": [
    {
     "name": "stderr",
     "output_type": "stream",
     "text": [
      "/usr/local/lib/python3.10/dist-packages/huggingface_hub/utils/_auth.py:94: UserWarning: \n",
      "The secret `HF_TOKEN` does not exist in your Colab secrets.\n",
      "To authenticate with the Hugging Face Hub, create a token in your settings tab (https://huggingface.co/settings/tokens), set it as secret in your Google Colab and restart your session.\n",
      "You will be able to reuse this secret in all of your notebooks.\n",
      "Please note that authentication is recommended but still optional to access public models or datasets.\n",
      "  warnings.warn(\n"
     ]
    },
    {
     "data": {
      "application/vnd.jupyter.widget-view+json": {
       "model_id": "643edf7be6a047bfb7943f0b923c6485",
       "version_major": 2,
       "version_minor": 0
      },
      "text/plain": [
       "README.md:   0%|          | 0.00/1.39k [00:00<?, ?B/s]"
      ]
     },
     "metadata": {},
     "output_type": "display_data"
    },
    {
     "data": {
      "application/vnd.jupyter.widget-view+json": {
       "model_id": "5c0c7a75362145faac6393d7f6cdfd30",
       "version_major": 2,
       "version_minor": 0
      },
      "text/plain": [
       "sent_train.csv:   0%|          | 0.00/859k [00:00<?, ?B/s]"
      ]
     },
     "metadata": {},
     "output_type": "display_data"
    },
    {
     "data": {
      "application/vnd.jupyter.widget-view+json": {
       "model_id": "52969b93932640468488f23e7233d2c4",
       "version_major": 2,
       "version_minor": 0
      },
      "text/plain": [
       "sent_valid.csv:   0%|          | 0.00/217k [00:00<?, ?B/s]"
      ]
     },
     "metadata": {},
     "output_type": "display_data"
    },
    {
     "data": {
      "application/vnd.jupyter.widget-view+json": {
       "model_id": "d9f225788ad94979a032ac423400a443",
       "version_major": 2,
       "version_minor": 0
      },
      "text/plain": [
       "Generating train split:   0%|          | 0/9543 [00:00<?, ? examples/s]"
      ]
     },
     "metadata": {},
     "output_type": "display_data"
    },
    {
     "data": {
      "application/vnd.jupyter.widget-view+json": {
       "model_id": "e6cd5f402a0f414396f33dc6dc96dd57",
       "version_major": 2,
       "version_minor": 0
      },
      "text/plain": [
       "Generating validation split:   0%|          | 0/2388 [00:00<?, ? examples/s]"
      ]
     },
     "metadata": {},
     "output_type": "display_data"
    },
    {
     "data": {
      "application/vnd.jupyter.widget-view+json": {
       "model_id": "6ee24f9142494929a9384247e1d6fff3",
       "version_major": 2,
       "version_minor": 0
      },
      "text/plain": [
       "config.json:   0%|          | 0.00/483 [00:00<?, ?B/s]"
      ]
     },
     "metadata": {},
     "output_type": "display_data"
    },
    {
     "data": {
      "application/vnd.jupyter.widget-view+json": {
       "model_id": "b0a5eac76c9f4c508c80dffa05954f9f",
       "version_major": 2,
       "version_minor": 0
      },
      "text/plain": [
       "model.safetensors:   0%|          | 0.00/268M [00:00<?, ?B/s]"
      ]
     },
     "metadata": {},
     "output_type": "display_data"
    },
    {
     "name": "stderr",
     "output_type": "stream",
     "text": [
      "Some weights of DistilBertForSequenceClassification were not initialized from the model checkpoint at distilbert-base-uncased and are newly initialized: ['classifier.bias', 'classifier.weight', 'pre_classifier.bias', 'pre_classifier.weight']\n",
      "You should probably TRAIN this model on a down-stream task to be able to use it for predictions and inference.\n"
     ]
    },
    {
     "data": {
      "application/vnd.jupyter.widget-view+json": {
       "model_id": "e3c72590ee774f02be4272173c836f97",
       "version_major": 2,
       "version_minor": 0
      },
      "text/plain": [
       "tokenizer_config.json:   0%|          | 0.00/48.0 [00:00<?, ?B/s]"
      ]
     },
     "metadata": {},
     "output_type": "display_data"
    },
    {
     "data": {
      "application/vnd.jupyter.widget-view+json": {
       "model_id": "162adfe6fe2a4e3b8e78961b09148e10",
       "version_major": 2,
       "version_minor": 0
      },
      "text/plain": [
       "vocab.txt:   0%|          | 0.00/232k [00:00<?, ?B/s]"
      ]
     },
     "metadata": {},
     "output_type": "display_data"
    },
    {
     "data": {
      "application/vnd.jupyter.widget-view+json": {
       "model_id": "956053b1242b4a06b9156de76e56148a",
       "version_major": 2,
       "version_minor": 0
      },
      "text/plain": [
       "tokenizer.json:   0%|          | 0.00/466k [00:00<?, ?B/s]"
      ]
     },
     "metadata": {},
     "output_type": "display_data"
    },
    {
     "data": {
      "application/vnd.jupyter.widget-view+json": {
       "model_id": "b4a3000534a84e47a6be395e2c303988",
       "version_major": 2,
       "version_minor": 0
      },
      "text/plain": [
       "Map:   0%|          | 0/9543 [00:00<?, ? examples/s]"
      ]
     },
     "metadata": {},
     "output_type": "display_data"
    },
    {
     "data": {
      "application/vnd.jupyter.widget-view+json": {
       "model_id": "928bd69307854d9babed78d17c90b38e",
       "version_major": 2,
       "version_minor": 0
      },
      "text/plain": [
       "Map:   0%|          | 0/2388 [00:00<?, ? examples/s]"
      ]
     },
     "metadata": {},
     "output_type": "display_data"
    }
   ],
   "source": [
    "import datasets\n",
    "import torch\n",
    "import numpy as np\n",
    "from datasets import load_dataset\n",
    "from transformers import AutoTokenizer, AutoModelForSequenceClassification, Trainer, TrainingArguments\n",
    "\n",
    "device = \"cuda\" if torch.cuda.is_available() else \"cpu\"\n",
    "\n",
    "\n",
    "#loading/dowloading dataset\n",
    "\n",
    "dataset = load_dataset(\"zeroshot/twitter-financial-news-sentiment\", cache_dir=\"../CentralCache\")\n",
    "model =AutoModelForSequenceClassification.from_pretrained(\"distilbert-base-uncased\", num_labels=3,cache_dir=\"../CentralCache\")\n",
    "#Tokenzing the text in dataset\n",
    "\n",
    "tokenizer = AutoTokenizer.from_pretrained(\"distilbert-base-uncased\", cache_dir=\"../CentralCache\")\n",
    "def tokenize_function(examples):\n",
    "    return tokenizer(examples[\"text\"], padding=\"max_length\", truncation=True)\n",
    "tokenized_datasets = dataset.map(tokenize_function, batched=True)\n",
    "\n",
    "# Set format for PyTorch\n",
    "tokenized_datasets = tokenized_datasets.remove_columns([\"text\"])  # Keep input IDs and labels only\n",
    "tokenized_datasets.set_format(\"torch\")"
   ]
  },
  {
   "cell_type": "code",
   "execution_count": null,
   "metadata": {
    "colab": {
     "base_uri": "https://localhost:8080/"
    },
    "id": "8exNQgV_z811",
    "outputId": "fe68deb4-1d9b-4ba4-d342-3038bca6b48d"
   },
   "outputs": [
    {
     "name": "stderr",
     "output_type": "stream",
     "text": [
      "<ipython-input-8-375a1d6f084b>:34: FutureWarning: `tokenizer` is deprecated and will be removed in version 5.0.0 for `Trainer.__init__`. Use `processing_class` instead.\n",
      "  trainer = Trainer(\n",
      "max_steps is given, it will override any value given in num_train_epochs\n"
     ]
    }
   ],
   "source": [
    "#Training Setup\n",
    "\n",
    "from transformers import TrainingArguments, Trainer\n",
    "import numpy as np\n",
    "from sklearn.metrics import accuracy_score, precision_recall_fscore_support\n",
    "\n",
    "# Compute metrics function\n",
    "def compute_metrics(eval_pred):\n",
    "    logits, labels = eval_pred\n",
    "    predictions = np.argmax(logits, axis=-1)\n",
    "    precision, recall, f1, _ = precision_recall_fscore_support(labels, predictions, average=\"weighted\")\n",
    "    acc = accuracy_score(labels, predictions)\n",
    "    return {\"accuracy\": acc, \"f1\": f1, \"precision\": precision, \"recall\": recall}\n",
    "\n",
    "training_args = TrainingArguments(\n",
    "    output_dir=\"./results\",\n",
    "    evaluation_strategy=\"steps\",\n",
    "    learning_rate=0.01,\n",
    "    per_device_train_batch_size=16,\n",
    "    per_device_eval_batch_size=16,\n",
    "    num_train_epochs=3,\n",
    "    eval_steps=1000,\n",
    "    save_steps=1000,\n",
    "    weight_decay=0.01,\n",
    "    # Remove save_strategy=\"epoch\"\n",
    "    save_strategy=\"steps\",  # Changed to 'epoch' to match evaluation_strategy\n",
    "    logging_dir=\"./logs\",\n",
    "    logging_steps=1000,\n",
    "    load_best_model_at_end=True,\n",
    "    max_steps=10 # Stop after 3 steps\n",
    ")\n",
    "\n",
    "# Trainer\n",
    "trainer = Trainer(\n",
    "    model=model,\n",
    "    args=training_args,\n",
    "    train_dataset=tokenized_datasets[\"train\"],\n",
    "    eval_dataset=tokenized_datasets[\"validation\"],\n",
    "    tokenizer=tokenizer,\n",
    "    compute_metrics=compute_metrics\n",
    ")\n"
   ]
  },
  {
   "cell_type": "code",
   "execution_count": null,
   "metadata": {
    "colab": {
     "base_uri": "https://localhost:8080/",
     "height": 410
    },
    "id": "LFK1F2Y9u-ZC",
    "outputId": "0a598fb8-38c5-48b7-bdb4-75eee7a0aeb7"
   },
   "outputs": [
    {
     "data": {
      "application/javascript": [
       "\n",
       "        window._wandbApiKey = new Promise((resolve, reject) => {\n",
       "            function loadScript(url) {\n",
       "            return new Promise(function(resolve, reject) {\n",
       "                let newScript = document.createElement(\"script\");\n",
       "                newScript.onerror = reject;\n",
       "                newScript.onload = resolve;\n",
       "                document.body.appendChild(newScript);\n",
       "                newScript.src = url;\n",
       "            });\n",
       "            }\n",
       "            loadScript(\"https://cdn.jsdelivr.net/npm/postmate/build/postmate.min.js\").then(() => {\n",
       "            const iframe = document.createElement('iframe')\n",
       "            iframe.style.cssText = \"width:0;height:0;border:none\"\n",
       "            document.body.appendChild(iframe)\n",
       "            const handshake = new Postmate({\n",
       "                container: iframe,\n",
       "                url: 'https://wandb.ai/authorize'\n",
       "            });\n",
       "            const timeout = setTimeout(() => reject(\"Couldn't auto authenticate\"), 5000)\n",
       "            handshake.then(function(child) {\n",
       "                child.on('authorize', data => {\n",
       "                    clearTimeout(timeout)\n",
       "                    resolve(data)\n",
       "                });\n",
       "            });\n",
       "            })\n",
       "        });\n",
       "    "
      ],
      "text/plain": [
       "<IPython.core.display.Javascript object>"
      ]
     },
     "metadata": {},
     "output_type": "display_data"
    },
    {
     "name": "stderr",
     "output_type": "stream",
     "text": [
      "\u001b[34m\u001b[1mwandb\u001b[0m: Logging into wandb.ai. (Learn how to deploy a W&B server locally: https://wandb.me/wandb-server)\n",
      "\u001b[34m\u001b[1mwandb\u001b[0m: You can find your API key in your browser here: https://wandb.ai/authorize\n",
      "wandb: Paste an API key from your profile and hit enter, or press ctrl+c to quit:"
     ]
    },
    {
     "name": "stdout",
     "output_type": "stream",
     "text": [
      " ··········\n"
     ]
    },
    {
     "name": "stderr",
     "output_type": "stream",
     "text": [
      "\u001b[34m\u001b[1mwandb\u001b[0m: Appending key for api.wandb.ai to your netrc file: /root/.netrc\n"
     ]
    },
    {
     "data": {
      "text/html": [
       "Tracking run with wandb version 0.18.7"
      ],
      "text/plain": [
       "<IPython.core.display.HTML object>"
      ]
     },
     "metadata": {},
     "output_type": "display_data"
    },
    {
     "data": {
      "text/html": [
       "Run data is saved locally in <code>/content/wandb/run-20241123_173818-37cpsd0x</code>"
      ],
      "text/plain": [
       "<IPython.core.display.HTML object>"
      ]
     },
     "metadata": {},
     "output_type": "display_data"
    },
    {
     "data": {
      "text/html": [
       "Syncing run <strong><a href='https://wandb.ai/mahwashshakoor75-fast-nu/huggingface/runs/37cpsd0x' target=\"_blank\">./results</a></strong> to <a href='https://wandb.ai/mahwashshakoor75-fast-nu/huggingface' target=\"_blank\">Weights & Biases</a> (<a href='https://wandb.me/developer-guide' target=\"_blank\">docs</a>)<br/>"
      ],
      "text/plain": [
       "<IPython.core.display.HTML object>"
      ]
     },
     "metadata": {},
     "output_type": "display_data"
    },
    {
     "data": {
      "text/html": [
       " View project at <a href='https://wandb.ai/mahwashshakoor75-fast-nu/huggingface' target=\"_blank\">https://wandb.ai/mahwashshakoor75-fast-nu/huggingface</a>"
      ],
      "text/plain": [
       "<IPython.core.display.HTML object>"
      ]
     },
     "metadata": {},
     "output_type": "display_data"
    },
    {
     "data": {
      "text/html": [
       " View run at <a href='https://wandb.ai/mahwashshakoor75-fast-nu/huggingface/runs/37cpsd0x' target=\"_blank\">https://wandb.ai/mahwashshakoor75-fast-nu/huggingface/runs/37cpsd0x</a>"
      ],
      "text/plain": [
       "<IPython.core.display.HTML object>"
      ]
     },
     "metadata": {},
     "output_type": "display_data"
    },
    {
     "data": {
      "text/html": [
       "\n",
       "    <div>\n",
       "      \n",
       "      <progress value='10' max='10' style='width:300px; height:20px; vertical-align: middle;'></progress>\n",
       "      [10/10 08:11, Epoch 0/1]\n",
       "    </div>\n",
       "    <table border=\"1\" class=\"dataframe\">\n",
       "  <thead>\n",
       " <tr style=\"text-align: left;\">\n",
       "      <th>Step</th>\n",
       "      <th>Training Loss</th>\n",
       "      <th>Validation Loss</th>\n",
       "    </tr>\n",
       "  </thead>\n",
       "  <tbody>\n",
       "  </tbody>\n",
       "</table><p>"
      ],
      "text/plain": [
       "<IPython.core.display.HTML object>"
      ]
     },
     "metadata": {},
     "output_type": "display_data"
    },
    {
     "data": {
      "text/html": [
       "\n",
       "    <div>\n",
       "      \n",
       "      <progress value='150' max='150' style='width:300px; height:20px; vertical-align: middle;'></progress>\n",
       "      [150/150 34:38]\n",
       "    </div>\n",
       "    "
      ],
      "text/plain": [
       "<IPython.core.display.HTML object>"
      ]
     },
     "metadata": {},
     "output_type": "display_data"
    },
    {
     "name": "stderr",
     "output_type": "stream",
     "text": [
      "/usr/local/lib/python3.10/dist-packages/sklearn/metrics/_classification.py:1531: UndefinedMetricWarning: Precision is ill-defined and being set to 0.0 in labels with no predicted samples. Use `zero_division` parameter to control this behavior.\n",
      "  _warn_prf(average, modifier, f\"{metric.capitalize()} is\", len(result))\n"
     ]
    },
    {
     "data": {
      "text/plain": [
       "('/content/drive/MyDrive/sentiment_model/tokenizer_config.json',\n",
       " '/content/drive/MyDrive/sentiment_model/special_tokens_map.json',\n",
       " '/content/drive/MyDrive/sentiment_model/vocab.txt',\n",
       " '/content/drive/MyDrive/sentiment_model/added_tokens.json',\n",
       " '/content/drive/MyDrive/sentiment_model/tokenizer.json')"
      ]
     },
     "execution_count": 9,
     "metadata": {},
     "output_type": "execute_result"
    }
   ],
   "source": [
    "trainer.train()\n",
    "# Evaluate and print metrics\n",
    "results = trainer.evaluate()\n",
    "#print(results)\n",
    "# Save the model, tokenizer, and training arguments\n",
    "drive_path = \"/content/drive/MyDrive/sentiment_model\"\n",
    "model.save_pretrained(drive_path)\n",
    "tokenizer.save_pretrained(drive_path)"
   ]
  },
  {
   "cell_type": "code",
   "execution_count": null,
   "metadata": {
    "colab": {
     "base_uri": "https://localhost:8080/"
    },
    "id": "ts6uf-dCu-cn",
    "outputId": "19eb0f68-98c5-44e4-a6b7-d01c691ff03b"
   },
   "outputs": [
    {
     "name": "stdout",
     "output_type": "stream",
     "text": [
      "['Bullish', 'Bullish', 'Bullish']\n"
     ]
    }
   ],
   "source": [
    "def predict_sentiment(texts):\n",
    "    tokens = tokenizer(texts, padding=True, truncation=True, return_tensors=\"pt\", max_length=128)\n",
    "    outputs = model(**tokens)\n",
    "    predictions = outputs.logits.argmax(dim=1).numpy()\n",
    "    sentiment_map = {0: \"Bearish\", 1: \"Neutral\", 2: \"Bullish\"}\n",
    "    return [sentiment_map[pred] for pred in predictions]\n",
    "\n",
    "# Example tweets\n",
    "sample_tweets = [\"The market looks strong today.\", \"I'm worried about the economy.\", \"No clear trend is visible.\"]\n",
    "print(predict_sentiment(sample_tweets))\n"
   ]
  }
 ],
 "metadata": {
  "colab": {
   "provenance": []
  },
  "kernelspec": {
   "display_name": "Python 3",
   "name": "python3"
  },
  "language_info": {
   "name": "python"
  }
 },
 "nbformat": 4,
 "nbformat_minor": 0
}
